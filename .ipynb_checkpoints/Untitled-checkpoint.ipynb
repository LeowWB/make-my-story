{
 "cells": [
  {
   "cell_type": "code",
   "execution_count": 2,
   "id": "complicated-representative",
   "metadata": {
    "scrolled": true
   },
   "outputs": [
    {
     "ename": "NameError",
     "evalue": "name '_C' is not defined",
     "output_type": "error",
     "traceback": [
      "\u001b[1;31m---------------------------------------------------------------------------\u001b[0m",
      "\u001b[1;31mNameError\u001b[0m                                 Traceback (most recent call last)",
      "\u001b[1;32m<ipython-input-2-4bb721cc4144>\u001b[0m in \u001b[0;36m<module>\u001b[1;34m\u001b[0m\n\u001b[0;32m      1\u001b[0m \u001b[1;32mimport\u001b[0m \u001b[0mcsv\u001b[0m\u001b[1;33m\u001b[0m\u001b[1;33m\u001b[0m\u001b[0m\n\u001b[1;32m----> 2\u001b[1;33m \u001b[1;32mimport\u001b[0m \u001b[0mtorch\u001b[0m\u001b[1;33m\u001b[0m\u001b[1;33m\u001b[0m\u001b[0m\n\u001b[0m\u001b[0;32m      3\u001b[0m \u001b[1;32mimport\u001b[0m \u001b[0mtorch\u001b[0m\u001b[1;33m.\u001b[0m\u001b[0mnn\u001b[0m \u001b[1;32mas\u001b[0m \u001b[0mnn\u001b[0m\u001b[1;33m\u001b[0m\u001b[1;33m\u001b[0m\u001b[0m\n\u001b[0;32m      4\u001b[0m \u001b[1;32mimport\u001b[0m \u001b[0mtorch\u001b[0m\u001b[1;33m.\u001b[0m\u001b[0mnn\u001b[0m\u001b[1;33m.\u001b[0m\u001b[0mfunctional\u001b[0m \u001b[1;32mas\u001b[0m \u001b[0mF\u001b[0m\u001b[1;33m\u001b[0m\u001b[1;33m\u001b[0m\u001b[0m\n\u001b[0;32m      5\u001b[0m \u001b[1;32mimport\u001b[0m \u001b[0mtorch\u001b[0m\u001b[1;33m.\u001b[0m\u001b[0moptim\u001b[0m \u001b[1;32mas\u001b[0m \u001b[0moptim\u001b[0m\u001b[1;33m\u001b[0m\u001b[1;33m\u001b[0m\u001b[0m\n",
      "\u001b[1;32mc:\\users\\user\\documents\\github\\make-my-story\\env\\lib\\site-packages\\torch\\__init__.py\u001b[0m in \u001b[0;36m<module>\u001b[1;34m\u001b[0m\n\u001b[0;32m    220\u001b[0m \u001b[1;33m\u001b[0m\u001b[0m\n\u001b[0;32m    221\u001b[0m \u001b[1;33m\u001b[0m\u001b[0m\n\u001b[1;32m--> 222\u001b[1;33m __all__ += [name for name in dir(_C)\n\u001b[0m\u001b[0;32m    223\u001b[0m             \u001b[1;32mif\u001b[0m \u001b[0mname\u001b[0m\u001b[1;33m[\u001b[0m\u001b[1;36m0\u001b[0m\u001b[1;33m]\u001b[0m \u001b[1;33m!=\u001b[0m \u001b[1;34m'_'\u001b[0m \u001b[1;32mand\u001b[0m\u001b[1;33m\u001b[0m\u001b[1;33m\u001b[0m\u001b[0m\n\u001b[0;32m    224\u001b[0m             not name.endswith('Base')]\n",
      "\u001b[1;31mNameError\u001b[0m: name '_C' is not defined"
     ]
    }
   ],
   "source": [
    "import csv\n",
    "import torch\n",
    "import torch.nn as nn\n",
    "import torch.nn.functional as F\n",
    "import torch.optim as optim\n",
    "import numpy as np\n",
    "import nltk\n",
    "from nltk.tokenize import word_tokenize\n",
    "import nltk.corpus\n",
    "import re\n",
    "import matplotlib.pyplot as plt\n",
    "import random\n",
    "from sklearn import metrics\n",
    "from pdb import set_trace as st\n",
    "import spacy\n",
    "import pandas as pd\n",
    "nltk.download('punkt')\n",
    "nltk.download('stopwords')"
   ]
  },
  {
   "cell_type": "code",
   "execution_count": null,
   "id": "western-underground",
   "metadata": {},
   "outputs": [],
   "source": [
    "train = pd.read_csv('train.csv')\n",
    "X_train = train['Text']\n",
    "y_train = train['Verdict']\n",
    "train_set = list(zip(\n",
    "    X_train, \n",
    "    map(\n",
    "        lambda y: y+1,\n",
    "        y_train\n",
    "    )\n",
    "))\n",
    "\n",
    "random.shuffle(train_set)\n",
    "\n",
    "val_set = train_set[:2000]\n",
    "train_set = train_set[2000:]\n"
   ]
  },
  {
   "cell_type": "code",
   "execution_count": null,
   "id": "scenic-carry",
   "metadata": {},
   "outputs": [],
   "source": [
    "train_set_label_counts = [0, 0, 0]\n",
    "\n",
    "for datum in train_set:\n",
    "    train_set_label_counts[datum[1]] += 1\n",
    "\n",
    "class_weights = np.array([10000, 10000, 10000]) / train_set_label_counts\n",
    "class_weights = torch.FloatTensor(class_weights)\n"
   ]
  },
  {
   "cell_type": "code",
   "execution_count": null,
   "id": "endangered-extent",
   "metadata": {},
   "outputs": [],
   "source": [
    "class NeuralNet(nn.Module):\n",
    "    def __init__(self, input_dims):\n",
    "        super(NeuralNet, self).__init__()\n",
    "        self.nlp = spacy.load(\"en_core_web_lg\")\n",
    "        self.layer1 = nn.Linear(input_dims, 10)\n",
    "        self.layer2 = nn.Linear(10, 3)\n",
    "        self.init_stopwords()\n",
    "        \n",
    "    def init_stopwords(self):\n",
    "        self.stopwords = nltk.corpus.stopwords.words('english')\n",
    "        self.stopwords += [\n",
    "            \"n't\",\n",
    "            \"'ve\",\n",
    "            \"'s\",\n",
    "            \"'re\",\n",
    "            \"'m\",\n",
    "            \"'d\",\n",
    "            \"'ll\"\n",
    "        ]\n",
    "        self.stopwords = set(self.stopwords)\n",
    "\n",
    "    def forward(self, x):\n",
    "        x = self.process_strings(x)\n",
    "        x = self.layer1(x)\n",
    "        x = nn.LeakyReLU()(x)\n",
    "        x = self.layer2(x)\n",
    "        x = nn.Softmax(dim=3)(x)\n",
    "        return x[0][0]\n",
    "    \n",
    "    def process_strings(self, x):\n",
    "        return torch.FloatTensor([[list(map(\n",
    "            self.process_one_string, x\n",
    "        ))]])\n",
    "    \n",
    "    # processes just one string\n",
    "    def process_one_string(self, string):\n",
    "        string = str(string) # in case of np.str_ incompatibility\n",
    "        string = string.lower()\n",
    "        string = word_tokenize(string)\n",
    "        string = list(filter(\n",
    "            lambda token: token not in self.stopwords and re.match(r'[a-z]', token),\n",
    "            string\n",
    "        ))\n",
    "        string = ' '.join(string)\n",
    "        return self.nlp(string).vector\n"
   ]
  },
  {
   "cell_type": "code",
   "execution_count": null,
   "id": "distinct-vacuum",
   "metadata": {},
   "outputs": [],
   "source": [
    "def validate(model, val_set, criterion):\n",
    "    val_x, val_y = np.transpose(val_set)\n",
    "    val_y = list(map(int, val_y))\n",
    "    val_outputs = neural_net(val_x)\n",
    "    loss = criterion(val_outputs, torch.LongTensor(val_y))\n",
    "    print(f'CE Loss: {loss.item()}')\n",
    "    val_output_labels = list(map(\n",
    "        lambda v_o: np.argmax(v_o.detach().numpy()),\n",
    "        val_outputs\n",
    "    ))\n",
    "    macro_f1 = metrics.f1_score(val_y, val_output_labels, average='macro')\n",
    "    print(f'Macro F1: {macro_f1}')\n",
    "    return macro_f1"
   ]
  },
  {
   "cell_type": "code",
   "execution_count": null,
   "id": "dimensional-sitting",
   "metadata": {
    "scrolled": true
   },
   "outputs": [],
   "source": [
    "FORCE_OVERFIT = False\n",
    "\n",
    "if FORCE_OVERFIT:\n",
    "    so_called_train_set = train_set[:4]\n",
    "    epochs = 100\n",
    "else:\n",
    "    so_called_train_set = train_set\n",
    "    epochs = 5\n",
    "\n",
    "neural_net = NeuralNet(300)\n",
    "criterion = nn.CrossEntropyLoss(weight=class_weights)\n",
    "optimizer = optim.Adam(neural_net.parameters(), lr=0.001, weight_decay=0.00001) # weight_decay also has L2 normalization\n",
    "train_loader = torch.utils.data.DataLoader(so_called_train_set, batch_size=4, shuffle=True, num_workers=4)\n",
    "\n",
    "for epoch in range(epochs):\n",
    "    running_loss = 0.0\n",
    "    for i, data in enumerate(train_loader, 0):\n",
    "        x, labels = data\n",
    "        optimizer.zero_grad()\n",
    "        outputs = neural_net(x)\n",
    "        loss = criterion(outputs, torch.LongTensor(labels))\n",
    "        loss.backward()\n",
    "        optimizer.step()\n",
    "\n",
    "        # print statistics\n",
    "        running_loss += loss.item()\n",
    "        if i % 2000 == 1999:    # print every 2000 mini-batches\n",
    "            print('[%d, %5d] loss: %.3f' %\n",
    "                  (epoch + 1, i + 1, running_loss / 2000))\n",
    "            running_loss = 0.0\n",
    "    print(f'Epoch {epoch}')\n",
    "    validate(neural_net, val_set, criterion)"
   ]
  },
  {
   "cell_type": "code",
   "execution_count": null,
   "id": "honey-singapore",
   "metadata": {},
   "outputs": [],
   "source": [
    "test_set = pd.read_csv('test.csv')\n",
    "test_x = test_set['Text']\n",
    "test_outputs = neural_net(test_x)\n",
    "test_output_labels = list(map(\n",
    "    lambda distrib: np.argmax(distrib.detach().numpy()) - 1,\n",
    "    test_outputs\n",
    "))\n",
    "test_set['Verdict'] = pd.Series(test_output_labels)\n",
    "test_set.drop(columns=['Text'], inplace=True)\n",
    "test_set.to_csv('A0184415E.csv', index=False)"
   ]
  }
 ],
 "metadata": {
  "kernelspec": {
   "display_name": "Python 3",
   "language": "python",
   "name": "python3"
  },
  "language_info": {
   "codemirror_mode": {
    "name": "ipython",
    "version": 3
   },
   "file_extension": ".py",
   "mimetype": "text/x-python",
   "name": "python",
   "nbconvert_exporter": "python",
   "pygments_lexer": "ipython3",
   "version": "3.6.12"
  }
 },
 "nbformat": 4,
 "nbformat_minor": 5
}
