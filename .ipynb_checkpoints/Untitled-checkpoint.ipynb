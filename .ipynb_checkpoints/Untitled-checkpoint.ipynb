{
 "cells": [
  {
   "cell_type": "code",
   "execution_count": 76,
   "id": "complicated-representative",
   "metadata": {
    "scrolled": true
   },
   "outputs": [
    {
     "name": "stderr",
     "output_type": "stream",
     "text": [
      "[nltk_data] Downloading package punkt to\n",
      "[nltk_data]     C:\\Users\\User\\AppData\\Roaming\\nltk_data...\n",
      "[nltk_data]   Package punkt is already up-to-date!\n",
      "[nltk_data] Downloading package stopwords to\n",
      "[nltk_data]     C:\\Users\\User\\AppData\\Roaming\\nltk_data...\n",
      "[nltk_data]   Package stopwords is already up-to-date!\n"
     ]
    },
    {
     "data": {
      "text/plain": [
       "True"
      ]
     },
     "execution_count": 76,
     "metadata": {},
     "output_type": "execute_result"
    }
   ],
   "source": [
    "import csv\n",
    "import torch\n",
    "import torch.nn as nn\n",
    "import torch.nn.functional as F\n",
    "import torch.optim as optim\n",
    "import numpy as np\n",
    "import nltk\n",
    "from nltk.tokenize import word_tokenize\n",
    "import nltk.corpus\n",
    "import re\n",
    "import matplotlib.pyplot as plt\n",
    "import random\n",
    "from sklearn import metrics\n",
    "from sklearn.feature_extraction.text import TfidfVectorizer\n",
    "from pdb import set_trace as st\n",
    "import spacy\n",
    "import pandas as pd\n",
    "nltk.download('punkt')\n",
    "nltk.download('stopwords')"
   ]
  },
  {
   "cell_type": "code",
   "execution_count": 77,
   "id": "western-underground",
   "metadata": {},
   "outputs": [],
   "source": [
    "train = pd.read_csv('train.csv')\n",
    "X_train = train['Text']\n",
    "y_train = train['Verdict']\n",
    "train_set = list(zip(\n",
    "    X_train, \n",
    "    map(\n",
    "        lambda y: y+1,\n",
    "        y_train\n",
    "    )\n",
    "))\n",
    "\n",
    "random.shuffle(train_set)\n",
    "\n",
    "val_set = train_set[:2000]\n",
    "train_set = train_set[2000:]\n"
   ]
  },
  {
   "cell_type": "code",
   "execution_count": 78,
   "id": "scenic-carry",
   "metadata": {},
   "outputs": [],
   "source": [
    "train_set_label_counts = [0, 0, 0]\n",
    "\n",
    "for datum in train_set:\n",
    "    train_set_label_counts[datum[1]] += 1\n",
    "\n",
    "class_weights = np.array([10000, 10000, 10000]) / train_set_label_counts\n",
    "class_weights = torch.FloatTensor(class_weights)\n"
   ]
  },
  {
   "cell_type": "code",
   "execution_count": 79,
   "id": "friendly-blade",
   "metadata": {},
   "outputs": [],
   "source": [
    "tfidf_vectorizer = TfidfVectorizer(use_idf=True)\n",
    "corpus, _ = np.transpose(train_set)\n",
    "corpus = list(corpus)\n",
    "\n",
    "stopwords = nltk.corpus.stopwords.words('english')\n",
    "stopwords += [\n",
    "    \"n't\",\n",
    "    \"'ve\",\n",
    "    \"'s\",\n",
    "    \"'re\",\n",
    "    \"'m\",\n",
    "    \"'d\",\n",
    "    \"'ll\"\n",
    "]\n",
    "stopwords = set(stopwords)\n",
    "\n",
    "def process_one_string(string):\n",
    "    string = str(string) # in case of np.str_ incompatibility\n",
    "    string = string.lower()\n",
    "    string = word_tokenize(string)\n",
    "    string = list(filter(\n",
    "        lambda token: token not in stopwords and re.match(r'[a-z]', token),\n",
    "        string\n",
    "    ))\n",
    "    string = ' '.join(string)\n",
    "    return string\n",
    "\n",
    "corpus = list(map(process_one_string, corpus))\n",
    "tfidf_vectorizer = tfidf_vectorizer.fit(corpus)\n",
    "tfidf_vectors = tfidf_vectorizer.transform(corpus)\n",
    "input_dim = tfidf_vectors.toarray().shape[1]\n"
   ]
  },
  {
   "cell_type": "code",
   "execution_count": null,
   "id": "compact-torture",
   "metadata": {},
   "outputs": [],
   "source": []
  },
  {
   "cell_type": "code",
   "execution_count": 80,
   "id": "endangered-extent",
   "metadata": {},
   "outputs": [],
   "source": [
    "class NeuralNet(nn.Module):\n",
    "    def __init__(self, input_dims, tfidf_vectorizer):\n",
    "        super(NeuralNet, self).__init__()\n",
    "        self.nlp = spacy.load(\"en_core_web_lg\")\n",
    "        self.layer1 = nn.Linear(input_dims, 10)\n",
    "        self.layer2 = nn.Linear(10, 3)\n",
    "\n",
    "    def forward(self, x):\n",
    "        x = list(map(process_one_string, x))\n",
    "        x = torch.FloatTensor([[\n",
    "            tfidf_vectorizer.transform(x).toarray()\n",
    "        ]])\n",
    "        x = self.layer1(x)\n",
    "        x = nn.LeakyReLU()(x)\n",
    "        x = self.layer2(x)\n",
    "        x = nn.Softmax(dim=3)(x)\n",
    "        return x[0][0]\n"
   ]
  },
  {
   "cell_type": "code",
   "execution_count": 81,
   "id": "distinct-vacuum",
   "metadata": {},
   "outputs": [],
   "source": [
    "def validate(model, val_set, criterion):\n",
    "    val_x, val_y = np.transpose(val_set)\n",
    "    val_y = list(map(int, val_y))\n",
    "    val_outputs = neural_net(val_x)\n",
    "    loss = criterion(val_outputs, torch.LongTensor(val_y))\n",
    "    print(f'CE Loss: {loss.item()}')\n",
    "    val_output_labels = list(map(\n",
    "        lambda v_o: np.argmax(v_o.detach().numpy()),\n",
    "        val_outputs\n",
    "    ))\n",
    "    macro_f1 = metrics.f1_score(val_y, val_output_labels, average='macro')\n",
    "    print(f'Macro F1: {macro_f1}')\n",
    "    return macro_f1"
   ]
  },
  {
   "cell_type": "code",
   "execution_count": 82,
   "id": "dimensional-sitting",
   "metadata": {
    "scrolled": true
   },
   "outputs": [
    {
     "name": "stdout",
     "output_type": "stream",
     "text": [
      "[1,  2000] loss: 1.024\n",
      "[1,  4000] loss: 0.936\n",
      "Epoch 0\n",
      "CE Loss: 0.9964917898178101\n",
      "Macro F1: 0.4831119744036378\n",
      "[2,  2000] loss: 0.880\n",
      "[2,  4000] loss: 0.872\n",
      "Epoch 1\n",
      "CE Loss: 0.9345881938934326\n",
      "Macro F1: 0.6064883390905994\n",
      "[3,  2000] loss: 0.800\n",
      "[3,  4000] loss: 0.815\n",
      "Epoch 2\n",
      "CE Loss: 0.9230037331581116\n",
      "Macro F1: 0.603220604882273\n",
      "[4,  2000] loss: 0.760\n",
      "[4,  4000] loss: 0.772\n",
      "Epoch 3\n",
      "CE Loss: 0.923183798789978\n",
      "Macro F1: 0.5910349231641366\n",
      "[5,  2000] loss: 0.736\n",
      "[5,  4000] loss: 0.746\n",
      "Epoch 4\n",
      "CE Loss: 0.920495867729187\n",
      "Macro F1: 0.5945881996304607\n"
     ]
    }
   ],
   "source": [
    "FORCE_OVERFIT = False\n",
    "\n",
    "if FORCE_OVERFIT:\n",
    "    so_called_train_set = train_set[:4]\n",
    "    epochs = 100\n",
    "else:\n",
    "    so_called_train_set = train_set\n",
    "    epochs = 5\n",
    "\n",
    "neural_net = NeuralNet(input_dim, tfidf_vectorizer)\n",
    "criterion = nn.CrossEntropyLoss(weight=class_weights)\n",
    "optimizer = optim.Adam(neural_net.parameters(), lr=0.001, weight_decay=0.00001) # weight_decay also has L2 normalization\n",
    "train_loader = torch.utils.data.DataLoader(so_called_train_set, batch_size=4, shuffle=True, num_workers=4)\n",
    "\n",
    "for epoch in range(epochs):\n",
    "    running_loss = 0.0\n",
    "    for i, data in enumerate(train_loader, 0):\n",
    "        x, labels = data\n",
    "        optimizer.zero_grad()\n",
    "        outputs = neural_net(x)\n",
    "        loss = criterion(outputs, torch.LongTensor(labels))\n",
    "        loss.backward()\n",
    "        optimizer.step()\n",
    "\n",
    "        # print statistics\n",
    "        running_loss += loss.item()\n",
    "        if i % 2000 == 1999:    # print every 2000 mini-batches\n",
    "            print('[%d, %5d] loss: %.3f' %\n",
    "                  (epoch + 1, i + 1, running_loss / 2000))\n",
    "            running_loss = 0.0\n",
    "    print(f'Epoch {epoch}')\n",
    "    validate(neural_net, val_set, criterion)"
   ]
  },
  {
   "cell_type": "code",
   "execution_count": 84,
   "id": "honey-singapore",
   "metadata": {},
   "outputs": [],
   "source": [
    "test_set = pd.read_csv('test.csv')\n",
    "test_x = test_set['Text']\n",
    "test_outputs = neural_net(test_x)\n",
    "test_output_labels = list(map(\n",
    "    lambda distrib: np.argmax(distrib.detach().numpy()) - 1,\n",
    "    test_outputs\n",
    "))\n",
    "test_set['Verdict'] = pd.Series(test_output_labels)\n",
    "test_set.drop(columns=['Text'], inplace=True)\n",
    "test_set.to_csv('A0184415E.csv', index=False)"
   ]
  }
 ],
 "metadata": {
  "kernelspec": {
   "display_name": "Python 3",
   "language": "python",
   "name": "python3"
  },
  "language_info": {
   "codemirror_mode": {
    "name": "ipython",
    "version": 3
   },
   "file_extension": ".py",
   "mimetype": "text/x-python",
   "name": "python",
   "nbconvert_exporter": "python",
   "pygments_lexer": "ipython3",
   "version": "3.6.12"
  }
 },
 "nbformat": 4,
 "nbformat_minor": 5
}
