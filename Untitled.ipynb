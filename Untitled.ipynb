{
 "cells": [
  {
   "cell_type": "code",
   "execution_count": 47,
   "id": "complicated-representative",
   "metadata": {},
   "outputs": [
    {
     "name": "stderr",
     "output_type": "stream",
     "text": [
      "[nltk_data] Downloading package punkt to\n",
      "[nltk_data]     C:\\Users\\User\\AppData\\Roaming\\nltk_data...\n",
      "[nltk_data]   Package punkt is already up-to-date!\n",
      "[nltk_data] Downloading package stopwords to\n",
      "[nltk_data]     C:\\Users\\User\\AppData\\Roaming\\nltk_data...\n",
      "[nltk_data]   Package stopwords is already up-to-date!\n"
     ]
    },
    {
     "data": {
      "text/plain": [
       "True"
      ]
     },
     "execution_count": 47,
     "metadata": {},
     "output_type": "execute_result"
    }
   ],
   "source": [
    "import csv\n",
    "import torch\n",
    "import torch.nn as nn\n",
    "import torch.nn.functional as F\n",
    "import torch.optim as optim\n",
    "import numpy as np\n",
    "import nltk\n",
    "from nltk.tokenize import word_tokenize\n",
    "import nltk.corpus\n",
    "import re\n",
    "import matplotlib.pyplot as plt\n",
    "import random\n",
    "from sklearn import metrics\n",
    "from pdb import set_trace as st\n",
    "import spacy\n",
    "nltk.download('punkt')\n",
    "nltk.download('stopwords')"
   ]
  },
  {
   "cell_type": "code",
   "execution_count": null,
   "id": "ranking-harvard",
   "metadata": {},
   "outputs": [],
   "source": []
  },
  {
   "cell_type": "code",
   "execution_count": null,
   "id": "danish-museum",
   "metadata": {},
   "outputs": [],
   "source": []
  },
  {
   "cell_type": "code",
   "execution_count": 48,
   "id": "bright-question",
   "metadata": {},
   "outputs": [
    {
     "data": {
      "text/plain": [
       "'\\nstopwords = stopwords + [\\n    \"n\\'t\",\\n    \\'not\\',\\n    \\'mr\\',\\n    \\'mr.\\'\\n]\\n'"
      ]
     },
     "execution_count": 48,
     "metadata": {},
     "output_type": "execute_result"
    }
   ],
   "source": [
    "\n",
    "nlp = spacy.load(\"en_core_web_lg\")  # make sure to use larger package!\n",
    "stopwords = nltk.corpus.stopwords.words('english')\n",
    "'''\n",
    "stopwords = stopwords + [\n",
    "    \"n't\",\n",
    "    'not',\n",
    "    'mr',\n",
    "    'mr.'\n",
    "]\n",
    "'''"
   ]
  },
  {
   "cell_type": "code",
   "execution_count": 49,
   "id": "western-underground",
   "metadata": {},
   "outputs": [],
   "source": [
    "import csv\n",
    "\n",
    "with open('train.csv', newline='', encoding='utf-8') as f:\n",
    "    reader = csv.reader(f, dialect='excel')\n",
    "    train_set = list(reader)\n",
    "\n",
    "train_set = list(map(\n",
    "    lambda x: [int(x[0]), x[1], int(x[2])],\n",
    "    train_set[1:]\n",
    "))\n",
    "\n",
    "random.shuffle(train_set)\n",
    "\n",
    "for datum in train_set:\n",
    "    if datum[2] == -1:\n",
    "        datum.append(np.array([1,0,0]))\n",
    "    elif datum[2] == 0:\n",
    "        datum.append(np.array([0,1,0]))\n",
    "    else:\n",
    "        datum.append(np.array([0,0,1]))\n",
    "\n",
    "val_set = train_set[:2000]\n",
    "train_set = train_set[2000:]\n",
    "\n",
    "# class weight code goes here.\n",
    "\n",
    "with open('test.csv', newline='', encoding='utf-8') as f:\n",
    "    reader = csv.reader(f, dialect='excel')\n",
    "    test_set = list(reader)\n",
    "\n",
    "test_set = list(map(\n",
    "    lambda x: (int(x[0]), x[1]),\n",
    "    test_set[1:]\n",
    "))"
   ]
  },
  {
   "cell_type": "code",
   "execution_count": 50,
   "id": "scenic-carry",
   "metadata": {},
   "outputs": [],
   "source": [
    "train_set_label_counts = np.sum(\n",
    "    np.array(list(map(\n",
    "        lambda x: x[3],\n",
    "        train_set\n",
    "    ))),\n",
    "    axis=0\n",
    ")\n",
    "class_weights = np.array([10000, 10000, 10000]) / train_set_label_counts\n",
    "class_weights = torch.FloatTensor(class_weights)\n"
   ]
  },
  {
   "cell_type": "code",
   "execution_count": 51,
   "id": "included-anatomy",
   "metadata": {},
   "outputs": [],
   "source": [
    "def string_to_tokens(string):\n",
    "    tokens = word_tokenize(string)\n",
    "    tokens = filter(\n",
    "        lambda x: re.match(re.compile(r\"^[A-Za-z'][A-Za-z'.]*$\"), x),\n",
    "        tokens\n",
    "    )\n",
    "    tokens = map(\n",
    "        lambda x: x.lower(),\n",
    "        tokens\n",
    "    )\n",
    "    tokens = filter(\n",
    "        lambda x: x not in stopwords and x[0] != \"'\",\n",
    "        tokens\n",
    "    )\n",
    "    return list(tokens)\n",
    "\n",
    "def remove_unknown_words(vocab, tokens):\n",
    "    return list(filter(\n",
    "        lambda x: x in vocab,\n",
    "        tokens\n",
    "    ))\n",
    "\n",
    "def generate_word_counts(train_set):\n",
    "    word_counts = {}\n",
    "    for train_datum in train_set:\n",
    "        for word in string_to_tokens(train_datum[1]):\n",
    "            word_counts[word] = word_counts.get(word, 0) + 1\n",
    "    return word_counts\n",
    "\n",
    "def remove_rare_words_from_word_counts(word_counts, threshold=5):\n",
    "    new_dict = {}\n",
    "    for word in word_counts.keys():\n",
    "        if word_counts[word] >= threshold:\n",
    "            new_dict[word] = word_counts[word]\n",
    "    return new_dict\n",
    "\n",
    "# returns a dict that maps words to integers. will be used for encoding text.\n",
    "def generate_wordmap(words):\n",
    "    wordmap = {}\n",
    "    for i in range(len(words)):\n",
    "        wordmap[words[i]] = i\n",
    "    return wordmap\n",
    "\n",
    "def string_to_vector(string, wordmap):\n",
    "    tokens = string_to_tokens(string)\n",
    "    tokens = remove_unknown_words(wordmap.keys(), tokens)\n",
    "    result = np.zeros(len(wordmap))\n",
    "    for token in tokens:\n",
    "        result[wordmap[token]] += 1\n",
    "    return result"
   ]
  },
  {
   "cell_type": "code",
   "execution_count": 52,
   "id": "peaceful-capacity",
   "metadata": {},
   "outputs": [
    {
     "name": "stdout",
     "output_type": "stream",
     "text": [
      "10484\n"
     ]
    }
   ],
   "source": [
    "word_counts = generate_word_counts(train_set)\n",
    "print(len(word_counts.keys()))"
   ]
  },
  {
   "cell_type": "code",
   "execution_count": 53,
   "id": "laden-bedroom",
   "metadata": {},
   "outputs": [
    {
     "name": "stdout",
     "output_type": "stream",
     "text": [
      "3653\n"
     ]
    },
    {
     "data": {
      "text/plain": [
       "[<matplotlib.lines.Line2D at 0x13de42c4390>]"
      ]
     },
     "execution_count": 53,
     "metadata": {},
     "output_type": "execute_result"
    },
    {
     "data": {
      "image/png": "[encoded data removed]",
      "text/plain": [
       "<Figure size 432x288 with 1 Axes>"
      ]
     },
     "metadata": {
      "needs_background": "light"
     },
     "output_type": "display_data"
    }
   ],
   "source": [
    "word_counts = remove_rare_words_from_word_counts(word_counts)\n",
    "print(len(word_counts.keys()))\n",
    "plt.plot(sorted(word_counts.values(), reverse=True))"
   ]
  },
  {
   "cell_type": "code",
   "execution_count": 54,
   "id": "adapted-garbage",
   "metadata": {
    "scrolled": true
   },
   "outputs": [
    {
     "data": {
      "text/plain": [
       "[(\"n't\", 2501),\n",
       " ('people', 1983),\n",
       " ('think', 1764),\n",
       " ('going', 1623),\n",
       " ('would', 1403),\n",
       " ('president', 1393),\n",
       " ('one', 1081),\n",
       " ('get', 1052),\n",
       " ('make', 990),\n",
       " ('want', 956),\n",
       " ('know', 947),\n",
       " ('country', 913),\n",
       " ('said', 908),\n",
       " ('uh', 906),\n",
       " ('years', 843),\n",
       " ('got', 812),\n",
       " ('us', 775),\n",
       " ('well', 756),\n",
       " ('say', 738),\n",
       " ('tax', 713)]"
      ]
     },
     "execution_count": 54,
     "metadata": {},
     "output_type": "execute_result"
    }
   ],
   "source": [
    "pairs = [(k, v) for k, v in word_counts.items()]\n",
    "top_n = sorted(\n",
    "    pairs, key=lambda item: -item[1]\n",
    ")\n",
    "top_n[:20]"
   ]
  },
  {
   "cell_type": "code",
   "execution_count": 55,
   "id": "composed-greenhouse",
   "metadata": {},
   "outputs": [],
   "source": [
    "wordmap = generate_wordmap(list(word_counts.keys()))"
   ]
  },
  {
   "cell_type": "code",
   "execution_count": 56,
   "id": "endangered-extent",
   "metadata": {},
   "outputs": [],
   "source": [
    "# TODO: dropout?\n",
    "\n",
    "class NeuralNet(nn.Module):\n",
    "    def __init__(self, input_dims):\n",
    "        super(NeuralNet, self).__init__()\n",
    "        self.layer1 = nn.Linear(input_dims, 50)\n",
    "        self.layer2 = nn.Linear(50, 10)\n",
    "        self.layer3 = nn.Linear(10, 3)\n",
    "\n",
    "    # Called on each input\n",
    "    # Computes the outputs (and next hidden state)\n",
    "    def forward(self, x):\n",
    "        x = self.layer1(x)\n",
    "        x = F.relu(x)\n",
    "        x = self.layer2(x)\n",
    "        x = F.relu(x)\n",
    "        x = self.layer3(x)\n",
    "        x = nn.Softmax(dim=3)(x)\n",
    "        return x[0][0]\n"
   ]
  },
  {
   "cell_type": "code",
   "execution_count": 57,
   "id": "running-relief",
   "metadata": {},
   "outputs": [
    {
     "data": {
      "text/plain": [
       "tensor([[0.2891, 0.3075, 0.4034]], grad_fn=<SelectBackward>)"
      ]
     },
     "execution_count": 57,
     "metadata": {},
     "output_type": "execute_result"
    }
   ],
   "source": [
    "neural_net = NeuralNet(300)\n",
    "neural_net(torch.Tensor([[[nlp('president think say').vector]]]))"
   ]
  },
  {
   "cell_type": "code",
   "execution_count": 58,
   "id": "recent-salem",
   "metadata": {},
   "outputs": [
    {
     "data": {
      "text/plain": [
       "(tensor([[0.2932, 0.3073, 0.3994]], grad_fn=<SelectBackward>), -1)"
      ]
     },
     "execution_count": 58,
     "metadata": {},
     "output_type": "execute_result"
    }
   ],
   "source": [
    "neural_net(torch.Tensor([[[nlp(train_set[0][1]).vector]]])), train_set[0][2]"
   ]
  },
  {
   "cell_type": "code",
   "execution_count": 59,
   "id": "dimensional-sitting",
   "metadata": {
    "scrolled": false
   },
   "outputs": [
    {
     "name": "stdout",
     "output_type": "stream",
     "text": [
      "[1,  2000] loss: 1.081\n",
      "[1,  4000] loss: 1.061\n",
      "Epoch 0\n",
      "CE Loss: 1.0871683359146118\n",
      "Macro F1: 0.30876303145053924\n",
      "[2,  2000] loss: 0.993\n",
      "[2,  4000] loss: 0.943\n",
      "Epoch 1\n",
      "CE Loss: 0.997660219669342\n",
      "Macro F1: 0.4931348174197974\n",
      "[3,  2000] loss: 0.926\n",
      "[3,  4000] loss: 0.914\n",
      "Epoch 2\n",
      "CE Loss: 0.9946256279945374\n",
      "Macro F1: 0.499371992101972\n",
      "[4,  2000] loss: 0.907\n",
      "[4,  4000] loss: 0.914\n",
      "Epoch 3\n",
      "CE Loss: 0.9812584519386292\n",
      "Macro F1: 0.4998371439113452\n",
      "[5,  2000] loss: 0.912\n",
      "[5,  4000] loss: 0.918\n",
      "Epoch 4\n",
      "CE Loss: 0.9793031215667725\n",
      "Macro F1: 0.4988833500370095\n",
      "[6,  2000] loss: 0.913\n",
      "[6,  4000] loss: 0.893\n",
      "Epoch 5\n",
      "CE Loss: 0.9572290182113647\n",
      "Macro F1: 0.5260974151554726\n",
      "[7,  2000] loss: 0.901\n",
      "[7,  4000] loss: 0.890\n",
      "Epoch 6\n",
      "CE Loss: 0.9197705388069153\n",
      "Macro F1: 0.6201296463378344\n",
      "[8,  2000] loss: 0.874\n",
      "[8,  4000] loss: 0.862\n",
      "Epoch 7\n",
      "CE Loss: 0.8938785195350647\n",
      "Macro F1: 0.601304673899504\n",
      "[9,  2000] loss: 0.867\n",
      "[9,  4000] loss: 0.855\n",
      "Epoch 8\n",
      "CE Loss: 0.8831310272216797\n",
      "Macro F1: 0.6432566616390146\n",
      "[10,  2000] loss: 0.856\n",
      "[10,  4000] loss: 0.851\n",
      "Epoch 9\n",
      "CE Loss: 0.8866620063781738\n",
      "Macro F1: 0.6296768888466621\n",
      "[11,  2000] loss: 0.849\n",
      "[11,  4000] loss: 0.858\n",
      "Epoch 10\n",
      "CE Loss: 0.9007865786552429\n",
      "Macro F1: 0.6124452993827642\n",
      "[12,  2000] loss: 0.853\n",
      "[12,  4000] loss: 0.850\n",
      "Epoch 11\n",
      "CE Loss: 0.8748128414154053\n",
      "Macro F1: 0.6344179810616203\n",
      "[13,  2000] loss: 0.847\n",
      "[13,  4000] loss: 0.842\n",
      "Epoch 12\n",
      "CE Loss: 0.8715178966522217\n",
      "Macro F1: 0.6391971905390963\n",
      "[14,  2000] loss: 0.852\n",
      "[14,  4000] loss: 0.844\n",
      "Epoch 13\n",
      "CE Loss: 0.9085542559623718\n",
      "Macro F1: 0.6422443665685071\n",
      "[15,  2000] loss: 0.841\n",
      "[15,  4000] loss: 0.840\n",
      "Epoch 14\n",
      "CE Loss: 0.8817026615142822\n",
      "Macro F1: 0.6491402909252637\n",
      "[16,  2000] loss: 0.847\n",
      "[16,  4000] loss: 0.838\n",
      "Epoch 15\n",
      "CE Loss: 0.8985089063644409\n",
      "Macro F1: 0.63394268797992\n",
      "[17,  2000] loss: 0.841\n",
      "[17,  4000] loss: 0.843\n",
      "Epoch 16\n",
      "CE Loss: 0.8660858273506165\n",
      "Macro F1: 0.6225681312809113\n",
      "[18,  2000] loss: 0.836\n",
      "[18,  4000] loss: 0.846\n",
      "Epoch 17\n",
      "CE Loss: 0.8828263878822327\n",
      "Macro F1: 0.6487763694431569\n",
      "[19,  2000] loss: 0.840\n",
      "[19,  4000] loss: 0.843\n",
      "Epoch 18\n",
      "CE Loss: 0.8732332587242126\n",
      "Macro F1: 0.6393071249966483\n",
      "[20,  2000] loss: 0.841\n",
      "[20,  4000] loss: 0.829\n",
      "Epoch 19\n",
      "CE Loss: 0.864202618598938\n",
      "Macro F1: 0.6410397478827766\n",
      "[21,  2000] loss: 0.831\n",
      "[21,  4000] loss: 0.844\n",
      "Epoch 20\n",
      "CE Loss: 0.8933606147766113\n",
      "Macro F1: 0.6413011957848914\n",
      "[22,  2000] loss: 0.838\n",
      "[22,  4000] loss: 0.839\n",
      "Epoch 21\n",
      "CE Loss: 0.878413736820221\n",
      "Macro F1: 0.650569685925027\n",
      "[23,  2000] loss: 0.835\n",
      "[23,  4000] loss: 0.837\n",
      "Epoch 22\n",
      "CE Loss: 0.8878660798072815\n",
      "Macro F1: 0.6377553646712458\n",
      "[24,  2000] loss: 0.836\n",
      "[24,  4000] loss: 0.835\n",
      "Epoch 23\n",
      "CE Loss: 0.9220542311668396\n",
      "Macro F1: 0.5419534619152864\n",
      "[25,  2000] loss: 0.834\n",
      "[25,  4000] loss: 0.835\n",
      "Epoch 24\n",
      "CE Loss: 0.8672680854797363\n",
      "Macro F1: 0.6489012247633902\n",
      "[26,  2000] loss: 0.832\n",
      "[26,  4000] loss: 0.835\n",
      "Epoch 25\n",
      "CE Loss: 0.8895295858383179\n",
      "Macro F1: 0.6646056724897089\n",
      "[27,  2000] loss: 0.835\n",
      "[27,  4000] loss: 0.834\n",
      "Epoch 26\n",
      "CE Loss: 0.9035802483558655\n",
      "Macro F1: 0.6078539653581717\n",
      "[28,  2000] loss: 0.830\n",
      "[28,  4000] loss: 0.836\n",
      "Epoch 27\n",
      "CE Loss: 0.8773755431175232\n",
      "Macro F1: 0.6555533702957866\n",
      "[29,  2000] loss: 0.845\n",
      "[29,  4000] loss: 0.834\n",
      "Epoch 28\n",
      "CE Loss: 0.8867395520210266\n",
      "Macro F1: 0.6600271967607103\n",
      "[30,  2000] loss: 0.831\n",
      "[30,  4000] loss: 0.834\n",
      "Epoch 29\n",
      "CE Loss: 0.8863251805305481\n",
      "Macro F1: 0.6525714854567428\n",
      "[31,  2000] loss: 0.834\n",
      "[31,  4000] loss: 0.826\n",
      "Epoch 30\n",
      "CE Loss: 0.8656344413757324\n",
      "Macro F1: 0.6425931155034936\n",
      "[32,  2000] loss: 0.829\n",
      "[32,  4000] loss: 0.832\n",
      "Epoch 31\n",
      "CE Loss: 0.8994067311286926\n",
      "Macro F1: 0.6209590205500833\n",
      "[33,  2000] loss: 0.833\n",
      "[33,  4000] loss: 0.824\n",
      "Epoch 32\n",
      "CE Loss: 0.8729369640350342\n",
      "Macro F1: 0.6263456123986099\n",
      "[34,  2000] loss: 0.834\n",
      "[34,  4000] loss: 0.826\n",
      "Epoch 33\n",
      "CE Loss: 0.8799900412559509\n",
      "Macro F1: 0.6319726720806039\n",
      "[35,  2000] loss: 0.822\n",
      "[35,  4000] loss: 0.831\n",
      "Epoch 34\n",
      "CE Loss: 0.9060657620429993\n",
      "Macro F1: 0.6376954266328214\n",
      "[36,  2000] loss: 0.824\n",
      "[36,  4000] loss: 0.835\n",
      "Epoch 35\n",
      "CE Loss: 0.8743705749511719\n",
      "Macro F1: 0.6591610064553909\n",
      "[37,  2000] loss: 0.827\n",
      "[37,  4000] loss: 0.831\n",
      "Epoch 36\n",
      "CE Loss: 0.8691766858100891\n",
      "Macro F1: 0.6380088193070129\n",
      "[38,  2000] loss: 0.829\n",
      "[38,  4000] loss: 0.815\n",
      "Epoch 37\n",
      "CE Loss: 0.9176847338676453\n",
      "Macro F1: 0.6035361373380549\n",
      "[39,  2000] loss: 0.831\n",
      "[39,  4000] loss: 0.828\n",
      "Epoch 38\n",
      "CE Loss: 0.8762528300285339\n",
      "Macro F1: 0.6505615836593414\n",
      "[40,  2000] loss: 0.823\n",
      "[40,  4000] loss: 0.825\n",
      "Epoch 39\n",
      "CE Loss: 0.8674034476280212\n",
      "Macro F1: 0.6552774715175894\n",
      "[41,  2000] loss: 0.828\n",
      "[41,  4000] loss: 0.826\n",
      "Epoch 40\n",
      "CE Loss: 0.8646600842475891\n",
      "Macro F1: 0.6307602886154398\n",
      "[42,  2000] loss: 0.818\n",
      "[42,  4000] loss: 0.829\n",
      "Epoch 41\n",
      "CE Loss: 0.8823011517524719\n",
      "Macro F1: 0.6353097778772101\n",
      "[43,  2000] loss: 0.836\n",
      "[43,  4000] loss: 0.823\n",
      "Epoch 42\n",
      "CE Loss: 0.8623203039169312\n",
      "Macro F1: 0.6404620082239277\n",
      "[44,  2000] loss: 0.821\n",
      "[44,  4000] loss: 0.828\n",
      "Epoch 43\n",
      "CE Loss: 0.9026330709457397\n",
      "Macro F1: 0.6325355430375827\n",
      "[45,  2000] loss: 0.833\n",
      "[45,  4000] loss: 0.821\n",
      "Epoch 44\n",
      "CE Loss: 0.8781247735023499\n",
      "Macro F1: 0.6614177683146066\n",
      "[46,  2000] loss: 0.825\n",
      "[46,  4000] loss: 0.822\n",
      "Epoch 45\n",
      "CE Loss: 0.8771560192108154\n",
      "Macro F1: 0.653967224191884\n",
      "[47,  2000] loss: 0.825\n",
      "[47,  4000] loss: 0.825\n",
      "Epoch 46\n",
      "CE Loss: 0.8614117503166199\n",
      "Macro F1: 0.6357563630862618\n",
      "[48,  2000] loss: 0.826\n",
      "[48,  4000] loss: 0.820\n",
      "Epoch 47\n",
      "CE Loss: 0.8658304810523987\n",
      "Macro F1: 0.6427520429257624\n",
      "[49,  2000] loss: 0.828\n",
      "[49,  4000] loss: 0.821\n",
      "Epoch 48\n",
      "CE Loss: 0.8744277358055115\n",
      "Macro F1: 0.6282060434616111\n",
      "[50,  2000] loss: 0.825\n",
      "[50,  4000] loss: 0.819\n",
      "Epoch 49\n",
      "CE Loss: 0.9153966903686523\n",
      "Macro F1: 0.6236744347064922\n"
     ]
    }
   ],
   "source": [
    "FORCE_OVERFIT = False\n",
    "\n",
    "if FORCE_OVERFIT:\n",
    "    so_called_train_set = train_set[:4]\n",
    "    epochs = 100\n",
    "else:\n",
    "    so_called_train_set = train_set\n",
    "    epochs = 50\n",
    "\n",
    "criterion = nn.CrossEntropyLoss(weight=class_weights)\n",
    "optimizer = optim.SGD(neural_net.parameters(), lr=0.001, momentum=0.9)\n",
    "train_loader = torch.utils.data.DataLoader(so_called_train_set, batch_size=4, shuffle=True, num_workers=4)\n",
    "\n",
    "for epoch in range(epochs):\n",
    "    running_loss = 0.0\n",
    "    for i, data in enumerate(train_loader, 0):\n",
    "        _, x, labels, _ = data\n",
    "        \n",
    "        x = torch.FloatTensor([[list(map(\n",
    "            lambda string: nlp(string).vector,\n",
    "            x\n",
    "        ))]])\n",
    "        \n",
    "        labels = list(map(\n",
    "            lambda x: x+1,\n",
    "            labels\n",
    "        ))\n",
    "        \n",
    "        optimizer.zero_grad()\n",
    "        outputs = neural_net(x)\n",
    "        loss = criterion(outputs, torch.LongTensor(labels))\n",
    "        loss.backward()\n",
    "        optimizer.step()\n",
    "\n",
    "        # print statistics\n",
    "        running_loss += loss.item()\n",
    "        if i % 2000 == 1999:    # print every 2000 mini-batches\n",
    "            print('[%d, %5d] loss: %.3f' %\n",
    "                  (epoch + 1, i + 1, running_loss / 2000))\n",
    "            running_loss = 0.0\n",
    "    print(f'Epoch {epoch}')\n",
    "    validate(neural_net, val_set)"
   ]
  },
  {
   "cell_type": "code",
   "execution_count": 60,
   "id": "elder-istanbul",
   "metadata": {},
   "outputs": [
    {
     "name": "stdout",
     "output_type": "stream",
     "text": [
      "CE Loss: 0.7789262533187866\n",
      "Macro F1: 0.6236744347064922\n"
     ]
    }
   ],
   "source": [
    "criterion = nn.CrossEntropyLoss()\n",
    "\n",
    "def validate(model, val_set):\n",
    "    val_x = []\n",
    "    val_y_labels = []\n",
    "    for val_datum in val_set:\n",
    "        val_x.append(val_datum[1])\n",
    "        val_y_labels.append(val_datum[2]+1)\n",
    "    val_x = torch.FloatTensor([[list(map(\n",
    "        lambda string: nlp(string).vector,\n",
    "        val_x\n",
    "    ))]])\n",
    "    val_outputs = neural_net(val_x)\n",
    "    loss = criterion(val_outputs, torch.LongTensor(val_y_labels))\n",
    "    print(f'CE Loss: {loss.item()}')\n",
    "    \n",
    "    val_output_labels = list(map(\n",
    "        lambda v_o: np.argmax(v_o.detach().numpy()),\n",
    "        val_outputs\n",
    "    ))\n",
    "    print(f'Macro F1: {metrics.f1_score(val_y_labels, val_output_labels, average=\"macro\")}')\n",
    "        \n",
    "validate(neural_net, val_set)"
   ]
  },
  {
   "cell_type": "code",
   "execution_count": null,
   "id": "technological-estimate",
   "metadata": {},
   "outputs": [],
   "source": []
  }
 ],
 "metadata": {
  "kernelspec": {
   "display_name": "Python 3",
   "language": "python",
   "name": "python3"
  },
  "language_info": {
   "codemirror_mode": {
    "name": "ipython",
    "version": 3
   },
   "file_extension": ".py",
   "mimetype": "text/x-python",
   "name": "python",
   "nbconvert_exporter": "python",
   "pygments_lexer": "ipython3",
   "version": "3.6.12"
  }
 },
 "nbformat": 4,
 "nbformat_minor": 5
}
